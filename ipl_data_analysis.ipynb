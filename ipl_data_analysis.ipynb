{
 "cells": [
  {
   "cell_type": "code",
   "execution_count": 1,
   "metadata": {},
   "outputs": [],
   "source": [
    "import numpy as np\n",
    "import pandas as pd\n",
    "import matplotlib.pyplot as plt\n",
    "import plotly.graph_objects as go\n",
    "\n",
    "#Loading Datasets using pandas\n",
    "match_data = pd.read_csv('Datasets/matches_2008-2024.csv')\n",
    "delivery_data = pd.read_csv('Datasets/deliveries_2008-2024.csv')"
   ]
  },
  {
   "cell_type": "code",
   "execution_count": 2,
   "metadata": {},
   "outputs": [
    {
     "name": "stdout",
     "output_type": "stream",
     "text": [
      "       id  season        city       date match_type player_of_match  \\\n",
      "0  335982    2008   Bangalore  4/18/2008     League     BB McCullum   \n",
      "1  335983    2008  Chandigarh  4/19/2008     League      MEK Hussey   \n",
      "2  335984    2008       Delhi  4/19/2008     League     MF Maharoof   \n",
      "3  335985    2008      Mumbai  4/20/2008     League      MV Boucher   \n",
      "4  335986    2008     Kolkata  4/20/2008     League       DJ Hussey   \n",
      "\n",
      "                                        venue                        team1  \\\n",
      "0                       M Chinnaswamy Stadium  Royal Challengers Bangalore   \n",
      "1  Punjab Cricket Association Stadium, Mohali              Kings XI Punjab   \n",
      "2                            Feroz Shah Kotla             Delhi Daredevils   \n",
      "3                            Wankhede Stadium               Mumbai Indians   \n",
      "4                                Eden Gardens        Kolkata Knight Riders   \n",
      "\n",
      "                         team2                  toss_winner toss_decision  \\\n",
      "0        Kolkata Knight Riders  Royal Challengers Bangalore         field   \n",
      "1          Chennai Super Kings          Chennai Super Kings           bat   \n",
      "2             Rajasthan Royals             Rajasthan Royals           bat   \n",
      "3  Royal Challengers Bangalore               Mumbai Indians           bat   \n",
      "4              Deccan Chargers              Deccan Chargers           bat   \n",
      "\n",
      "                        winner   result  result_margin  target_runs  \\\n",
      "0        Kolkata Knight Riders     runs          140.0        223.0   \n",
      "1          Chennai Super Kings     runs           33.0        241.0   \n",
      "2             Delhi Daredevils  wickets            9.0        130.0   \n",
      "3  Royal Challengers Bangalore  wickets            5.0        166.0   \n",
      "4        Kolkata Knight Riders  wickets            5.0        111.0   \n",
      "\n",
      "   target_overs super_over method    umpire1         umpire2  \n",
      "0          20.0          N    NaN  Asad Rauf     RE Koertzen  \n",
      "1          20.0          N    NaN  MR Benson      SL Shastri  \n",
      "2          20.0          N    NaN  Aleem Dar  GA Pratapkumar  \n",
      "3          20.0          N    NaN   SJ Davis       DJ Harper  \n",
      "4          20.0          N    NaN  BF Bowden     K Hariharan  \n",
      "\n",
      "\n",
      "   match_id  inning   batting_team                  \\\n",
      "0    335982        1  Kolkata Knight Riders          \n",
      "1    335982        1  Kolkata Knight Riders          \n",
      "2    335982        1  Kolkata Knight Riders          \n",
      "3    335982        1  Kolkata Knight Riders          \n",
      "4    335982        1  Kolkata Knight Riders          \n",
      "\n",
      "   bowling_team                  over   ball   batter                    \\\n",
      "0  Royal Challengers Bangalore       0      1  SC Ganguly                 \n",
      "1  Royal Challengers Bangalore       0      2  BB McCullum                \n",
      "2  Royal Challengers Bangalore       0      3  BB McCullum                \n",
      "3  Royal Challengers Bangalore       0      4  BB McCullum                \n",
      "4  Royal Challengers Bangalore       0      5  BB McCullum                \n",
      "\n",
      "   bowler                    non_striker               batsman_runs   \\\n",
      "0  P Kumar                   BB McCullum                           0   \n",
      "1  P Kumar                   SC Ganguly                            0   \n",
      "2  P Kumar                   SC Ganguly                            0   \n",
      "3  P Kumar                   SC Ganguly                            0   \n",
      "4  P Kumar                   SC Ganguly                            0   \n",
      "\n",
      "   extra_runs   total_runs   extras_type   is_wicket   \\\n",
      "0            1            1  legbyes                0   \n",
      "1            0            0                         0   \n",
      "2            1            1  wides                  0   \n",
      "3            0            0                         0   \n",
      "4            0            0                         0   \n",
      "\n",
      "   player_dismissed          dismissal_kind         fielder  \n",
      "0  NA                        NA                         NaN  \n",
      "1  NA                        NA                         NaN  \n",
      "2  NA                        NA                         NaN  \n",
      "3  NA                        NA                         NaN  \n",
      "4  NA                        NA                         NaN  \n"
     ]
    }
   ],
   "source": [
    "#printing the first 5 rows of the datasets\n",
    "print(match_data.head())\n",
    "print(\"\\n\")\n",
    "#printing the first 5 rows of the datasets\n",
    "print(delivery_data.head())"
   ]
  },
  {
   "cell_type": "code",
   "execution_count": 3,
   "metadata": {},
   "outputs": [
    {
     "name": "stdout",
     "output_type": "stream",
     "text": [
      "Null values in match_data:\n",
      " id                    0\n",
      "season                0\n",
      "city                 51\n",
      "date                  0\n",
      "match_type            0\n",
      "player_of_match       5\n",
      "venue                 0\n",
      "team1                 0\n",
      "team2                 0\n",
      "toss_winner           0\n",
      "toss_decision         0\n",
      "winner                5\n",
      "result                0\n",
      "result_margin        19\n",
      "target_runs           3\n",
      "target_overs          3\n",
      "super_over            0\n",
      "method             1074\n",
      "umpire1               0\n",
      "umpire2               0\n",
      "dtype: int64\n",
      "\n",
      "Null values in delivery_data:\n",
      " match_id                             0\n",
      "inning                               0\n",
      "batting_team                         0\n",
      "bowling_team                         0\n",
      "over                                 0\n",
      "ball                                 0\n",
      "batter                               0\n",
      "bowler                               0\n",
      "non_striker                          0\n",
      "batsman_runs                         0\n",
      "extra_runs                           0\n",
      "total_runs                           0\n",
      "extras_type                          0\n",
      "is_wicket                            0\n",
      "player_dismissed                     0\n",
      "dismissal_kind                       0\n",
      "fielder                         251566\n",
      "dtype: int64\n"
     ]
    }
   ],
   "source": [
    "# Get null values in match_data\n",
    "null_values_match_data = match_data.isnull().sum()\n",
    "print(\"Null values in match_data:\\n\", null_values_match_data)\n",
    "\n",
    "# Get null values in delivery_data\n",
    "null_values_delivery_data = delivery_data.isnull().sum()\n",
    "print(\"\\nNull values in delivery_data:\\n\", null_values_delivery_data)"
   ]
  },
  {
   "cell_type": "code",
   "execution_count": 4,
   "metadata": {},
   "outputs": [
    {
     "name": "stdout",
     "output_type": "stream",
     "text": [
      "Shape of match_data (rows, columns): (1095, 20)\n",
      "Shape of delivery_data (rows, columns): (260920, 17)\n",
      "Columns in match_data:\n",
      " Index(['id', 'season', 'city', 'date', 'match_type', 'player_of_match',\n",
      "       'venue', 'team1', 'team2', 'toss_winner', 'toss_decision', 'winner',\n",
      "       'result', 'result_margin', 'target_runs', 'target_overs', 'super_over',\n",
      "       'method', 'umpire1', 'umpire2'],\n",
      "      dtype='object')\n",
      "\n",
      "Columns in delivery_data:\n",
      " Index(['match_id', 'inning ', 'batting_team                ',\n",
      "       'bowling_team                ', 'over ', 'ball ',\n",
      "       'batter                  ', 'bowler                  ',\n",
      "       'non_striker             ', 'batsman_runs ', 'extra_runs ',\n",
      "       'total_runs ', 'extras_type ', 'is_wicket ', 'player_dismissed        ',\n",
      "       'dismissal_kind        ', 'fielder'],\n",
      "      dtype='object')\n",
      "\n",
      "Rows in match_data:\n",
      "            id  season        city       date   match_type  player_of_match  \\\n",
      "0      335982    2008   Bangalore  4/18/2008       League      BB McCullum   \n",
      "1      335983    2008  Chandigarh  4/19/2008       League       MEK Hussey   \n",
      "2      335984    2008       Delhi  4/19/2008       League      MF Maharoof   \n",
      "3      335985    2008      Mumbai  4/20/2008       League       MV Boucher   \n",
      "4      335986    2008     Kolkata  4/20/2008       League        DJ Hussey   \n",
      "...       ...     ...         ...        ...          ...              ...   \n",
      "1090  1426307    2024   Hyderabad  5/19/2024       League  Abhishek Sharma   \n",
      "1091  1426309    2024   Ahmedabad  5/21/2024  Qualifier 1         MA Starc   \n",
      "1092  1426310    2024   Ahmedabad  5/22/2024   Eliminator         R Ashwin   \n",
      "1093  1426311    2024     Chennai  5/24/2024  Qualifier 2    Shahbaz Ahmed   \n",
      "1094  1426312    2024     Chennai  5/26/2024        Final         MA Starc   \n",
      "\n",
      "                                                  venue  \\\n",
      "0                                 M Chinnaswamy Stadium   \n",
      "1            Punjab Cricket Association Stadium, Mohali   \n",
      "2                                      Feroz Shah Kotla   \n",
      "3                                      Wankhede Stadium   \n",
      "4                                          Eden Gardens   \n",
      "...                                                 ...   \n",
      "1090  Rajiv Gandhi International Stadium, Uppal, Hyd...   \n",
      "1091                   Narendra Modi Stadium, Ahmedabad   \n",
      "1092                   Narendra Modi Stadium, Ahmedabad   \n",
      "1093           MA Chidambaram Stadium, Chepauk, Chennai   \n",
      "1094           MA Chidambaram Stadium, Chepauk, Chennai   \n",
      "\n",
      "                            team1                        team2  \\\n",
      "0     Royal Challengers Bangalore        Kolkata Knight Riders   \n",
      "1                 Kings XI Punjab          Chennai Super Kings   \n",
      "2                Delhi Daredevils             Rajasthan Royals   \n",
      "3                  Mumbai Indians  Royal Challengers Bangalore   \n",
      "4           Kolkata Knight Riders              Deccan Chargers   \n",
      "...                           ...                          ...   \n",
      "1090                 Punjab Kings          Sunrisers Hyderabad   \n",
      "1091          Sunrisers Hyderabad        Kolkata Knight Riders   \n",
      "1092  Royal Challengers Bengaluru             Rajasthan Royals   \n",
      "1093          Sunrisers Hyderabad             Rajasthan Royals   \n",
      "1094          Sunrisers Hyderabad        Kolkata Knight Riders   \n",
      "\n",
      "                      toss_winner toss_decision                       winner  \\\n",
      "0     Royal Challengers Bangalore         field        Kolkata Knight Riders   \n",
      "1             Chennai Super Kings           bat          Chennai Super Kings   \n",
      "2                Rajasthan Royals           bat             Delhi Daredevils   \n",
      "3                  Mumbai Indians           bat  Royal Challengers Bangalore   \n",
      "4                 Deccan Chargers           bat        Kolkata Knight Riders   \n",
      "...                           ...           ...                          ...   \n",
      "1090                 Punjab Kings           bat          Sunrisers Hyderabad   \n",
      "1091          Sunrisers Hyderabad           bat        Kolkata Knight Riders   \n",
      "1092             Rajasthan Royals         field             Rajasthan Royals   \n",
      "1093             Rajasthan Royals         field          Sunrisers Hyderabad   \n",
      "1094          Sunrisers Hyderabad           bat        Kolkata Knight Riders   \n",
      "\n",
      "       result  result_margin  target_runs  target_overs super_over method  \\\n",
      "0        runs          140.0        223.0          20.0          N    NaN   \n",
      "1        runs           33.0        241.0          20.0          N    NaN   \n",
      "2     wickets            9.0        130.0          20.0          N    NaN   \n",
      "3     wickets            5.0        166.0          20.0          N    NaN   \n",
      "4     wickets            5.0        111.0          20.0          N    NaN   \n",
      "...       ...            ...          ...           ...        ...    ...   \n",
      "1090  wickets            4.0        215.0          20.0          N    NaN   \n",
      "1091  wickets            8.0        160.0          20.0          N    NaN   \n",
      "1092  wickets            4.0        173.0          20.0          N    NaN   \n",
      "1093     runs           36.0        176.0          20.0          N    NaN   \n",
      "1094  wickets            8.0        114.0          20.0          N    NaN   \n",
      "\n",
      "                    umpire1               umpire2  \n",
      "0                 Asad Rauf           RE Koertzen  \n",
      "1                 MR Benson            SL Shastri  \n",
      "2                 Aleem Dar        GA Pratapkumar  \n",
      "3                  SJ Davis             DJ Harper  \n",
      "4                 BF Bowden           K Hariharan  \n",
      "...                     ...                   ...  \n",
      "1090            Nitin Menon             VK Sharma  \n",
      "1091           AK Chaudhary              R Pandit  \n",
      "1092  KN Ananthapadmanabhan  MV Saidharshan Kumar  \n",
      "1093            Nitin Menon             VK Sharma  \n",
      "1094          J Madanagopal           Nitin Menon  \n",
      "\n",
      "[1095 rows x 20 columns]\n",
      "\n",
      "Rows in delivery_data:\n",
      "         match_id  inning   batting_team                  \\\n",
      "0         335982        1  Kolkata Knight Riders          \n",
      "1         335982        1  Kolkata Knight Riders          \n",
      "2         335982        1  Kolkata Knight Riders          \n",
      "3         335982        1  Kolkata Knight Riders          \n",
      "4         335982        1  Kolkata Knight Riders          \n",
      "...          ...      ...                           ...   \n",
      "260915   1426312        2  Kolkata Knight Riders          \n",
      "260916   1426312        2  Kolkata Knight Riders          \n",
      "260917   1426312        2  Kolkata Knight Riders          \n",
      "260918   1426312        2  Kolkata Knight Riders          \n",
      "260919   1426312        2  Kolkata Knight Riders          \n",
      "\n",
      "        bowling_team                  over   ball   batter                    \\\n",
      "0       Royal Challengers Bangalore       0      1  SC Ganguly                 \n",
      "1       Royal Challengers Bangalore       0      2  BB McCullum                \n",
      "2       Royal Challengers Bangalore       0      3  BB McCullum                \n",
      "3       Royal Challengers Bangalore       0      4  BB McCullum                \n",
      "4       Royal Challengers Bangalore       0      5  BB McCullum                \n",
      "...                              ...    ...    ...                       ...   \n",
      "260915  Sunrisers Hyderabad               9      5  SS Iyer                    \n",
      "260916  Sunrisers Hyderabad               9      6  VR Iyer                    \n",
      "260917  Sunrisers Hyderabad              10      1  VR Iyer                    \n",
      "260918  Sunrisers Hyderabad              10      2  SS Iyer                    \n",
      "260919  Sunrisers Hyderabad              10      3  VR Iyer                    \n",
      "\n",
      "        bowler                    non_striker               batsman_runs   \\\n",
      "0       P Kumar                   BB McCullum                           0   \n",
      "1       P Kumar                   SC Ganguly                            0   \n",
      "2       P Kumar                   SC Ganguly                            0   \n",
      "3       P Kumar                   SC Ganguly                            0   \n",
      "4       P Kumar                   SC Ganguly                            0   \n",
      "...                          ...                       ...            ...   \n",
      "260915  AK Markram                VR Iyer                               1   \n",
      "260916  AK Markram                SS Iyer                               1   \n",
      "260917  Shahbaz Ahmed             SS Iyer                               1   \n",
      "260918  Shahbaz Ahmed             VR Iyer                               1   \n",
      "260919  Shahbaz Ahmed             SS Iyer                               1   \n",
      "\n",
      "        extra_runs   total_runs   extras_type   is_wicket   \\\n",
      "0                 1            1  legbyes                0   \n",
      "1                 0            0                         0   \n",
      "2                 1            1  wides                  0   \n",
      "3                 0            0                         0   \n",
      "4                 0            0                         0   \n",
      "...             ...          ...           ...         ...   \n",
      "260915            0            1                         0   \n",
      "260916            0            1                         0   \n",
      "260917            0            1                         0   \n",
      "260918            0            1                         0   \n",
      "260919            0            1                         0   \n",
      "\n",
      "        player_dismissed          dismissal_kind         fielder  \n",
      "0       NA                        NA                         NaN  \n",
      "1       NA                        NA                         NaN  \n",
      "2       NA                        NA                         NaN  \n",
      "3       NA                        NA                         NaN  \n",
      "4       NA                        NA                         NaN  \n",
      "...                          ...                     ...     ...  \n",
      "260915  NA                        NA                         NaN  \n",
      "260916  NA                        NA                         NaN  \n",
      "260917  NA                        NA                         NaN  \n",
      "260918  NA                        NA                         NaN  \n",
      "260919  NA                        NA                         NaN  \n",
      "\n",
      "[260920 rows x 17 columns]\n"
     ]
    }
   ],
   "source": [
    "# Get the shape of match_data\n",
    "match_data_shape = match_data.shape\n",
    "print(\"Shape of match_data (rows, columns):\", match_data_shape)\n",
    "\n",
    "# Get the shape of delivery_data\n",
    "delivery_data_shape = delivery_data.shape\n",
    "print(\"Shape of delivery_data (rows, columns):\", delivery_data_shape)\n",
    "\n",
    "# Show columns of match_data\n",
    "print(\"Columns in match_data:\\n\", match_data.columns)\n",
    "\n",
    "# Show columns of delivery_data\n",
    "print(\"\\nColumns in delivery_data:\\n\", delivery_data.columns)\n",
    "\n",
    "# Show rows of match_data\n",
    "print(\"\\nRows in match_data:\\n\", match_data)\n",
    "\n",
    "# Show rows of delivery_data\n",
    "print(\"\\nRows in delivery_data:\\n\", delivery_data)"
   ]
  },
  {
   "cell_type": "code",
   "execution_count": 5,
   "metadata": {},
   "outputs": [
    {
     "name": "stdout",
     "output_type": "stream",
     "text": [
      "Matches played so far: 1095\n",
      "\n",
      "\n",
      "Cities in which matches have been played (unique): ['Bangalore' 'Chandigarh' 'Delhi' 'Mumbai' 'Kolkata' 'Jaipur' 'Hyderabad'\n",
      " 'Chennai' 'Cape Town' 'Port Elizabeth' 'Durban' 'Centurion' 'East London'\n",
      " 'Johannesburg' 'Kimberley' 'Bloemfontein' 'Ahmedabad' 'Cuttack' 'Nagpur'\n",
      " 'Dharamsala' 'Kochi' 'Indore' 'Visakhapatnam' 'Pune' 'Raipur' 'Ranchi'\n",
      " 'Abu Dhabi' 'Rajkot' 'Kanpur' 'Bengaluru' 'Dubai' 'Sharjah' 'Navi Mumbai'\n",
      " 'Lucknow' 'Guwahati' 'Mohali']\n",
      "\n",
      "\n",
      "Teams that have participated so far (unique): ['Royal Challengers Bangalore' 'Kings XI Punjab' 'Delhi Daredevils'\n",
      " 'Mumbai Indians' 'Kolkata Knight Riders' 'Rajasthan Royals'\n",
      " 'Deccan Chargers' 'Chennai Super Kings' 'Kochi Tuskers Kerala'\n",
      " 'Pune Warriors' 'Sunrisers Hyderabad' 'Gujarat Lions'\n",
      " 'Rising Pune Supergiants' 'Rising Pune Supergiant' 'Delhi Capitals'\n",
      " 'Punjab Kings' 'Lucknow Super Giants' 'Gujarat Titans'\n",
      " 'Royal Challengers Bengaluru']\n",
      "\n",
      "\n",
      "Number of seasons in the dataset: 17\n"
     ]
    }
   ],
   "source": [
    "# Print the number of matches played so far\n",
    "matches_played = match_data.shape[0]\n",
    "print(\"Matches played so far:\", matches_played)\n",
    "\n",
    "print(\"\\n\")\n",
    "\n",
    "# Print the unique cities in which matches have been played\n",
    "unique_cities = match_data['city'].dropna().unique() # dropna() is used to remove the NaN values\n",
    "print(\"Cities in which matches have been played (unique):\", unique_cities)\n",
    "\n",
    "print(\"\\n\")\n",
    "# Print the unique teams that have participated so far\n",
    "unique_teams = pd.concat([match_data['team1'], match_data['team2']]).unique()\n",
    "print(\"Teams that have participated so far (unique):\", unique_teams)\n",
    "\n",
    "print(\"\\n\")\n",
    "# Print the number of seasons in the dataset\n",
    "num_seasons = match_data['season'].nunique() # nunique() returns the number of unique values\n",
    "print(\"Number of seasons in the dataset:\", num_seasons)"
   ]
  },
  {
   "cell_type": "code",
   "execution_count": 6,
   "metadata": {},
   "outputs": [
    {
     "name": "stdout",
     "output_type": "stream",
     "text": [
      " season  Matches\n",
      "   2008       58\n",
      "   2009       57\n",
      "   2010       60\n",
      "   2011       73\n",
      "   2012       74\n",
      "   2013       76\n",
      "   2014       60\n",
      "   2015       59\n",
      "   2016       60\n",
      "   2017       59\n",
      "   2018       60\n",
      "   2019       60\n",
      "   2020       60\n",
      "   2021       60\n",
      "   2022       74\n",
      "   2023       74\n",
      "   2024       71\n"
     ]
    }
   ],
   "source": [
    "\n",
    "# Print the season with number of matches in a tabular format\n",
    "matches_per_season_df = match_data.groupby('season').size().reset_index(name='Matches') # Group by season and count the number of matches in each season using size() and reset_index() to get a DataFrame with 'season' and 'Matches' columns\n",
    "print(matches_per_season_df.to_string(index=False))"
   ]
  },
  {
   "cell_type": "code",
   "execution_count": 7,
   "metadata": {},
   "outputs": [
    {
     "data": {
      "image/png": "[encoded data removed]",
      "text/plain": [
       "<Figure size 1000x600 with 1 Axes>"
      ]
     },
     "metadata": {},
     "output_type": "display_data"
    }
   ],
   "source": [
    "# Create a bar graph for the number of matches per season\n",
    "plt.figure(figsize=(10, 6))  # Set the figure size\n",
    "\n",
    "# Define colors for the bars: red for the max value, green for the min value, and skyblue for others\n",
    "colors = ['red' if x == matches_per_season_df['Matches'].max() else 'green' if x == matches_per_season_df['Matches'].min() else 'skyblue' for x in matches_per_season_df['Matches']]\n",
    "\n",
    "# Create the bar plot\n",
    "bars = plt.bar(matches_per_season_df['season'], matches_per_season_df['Matches'], color=colors)\n",
    "\n",
    "# Set the x-axis label\n",
    "plt.xlabel('Season')\n",
    "\n",
    "# Set the y-axis label\n",
    "plt.ylabel('Number of Matches')\n",
    "\n",
    "# Set the title of the plot\n",
    "plt.title('Number of Matches per Season')\n",
    "\n",
    "# Rotate the x-axis labels for better readability\n",
    "plt.xticks(matches_per_season_df['season'], rotation=45)\n",
    "\n",
    "# Annotate bars with the number of matches\n",
    "for bar in bars:\n",
    "    yval = bar.get_height()  # Get the height of the bar\n",
    "    plt.text(bar.get_x() + bar.get_width()/2, yval + 1, int(yval), ha='center', va='bottom')  # Add text annotation\n",
    "\n",
    "# Display the plot\n",
    "plt.show()"
   ]
  },
  {
   "cell_type": "code",
   "execution_count": 8,
   "metadata": {},
   "outputs": [
    {
     "name": "stdout",
     "output_type": "stream",
     "text": [
      "Index(['match_id', 'inning', 'batting_team', 'bowling_team', 'over', 'ball',\n",
      "       'batter', 'bowler', 'non_striker', 'batsman_runs', 'extra_runs',\n",
      "       'total_runs', 'extras_type', 'is_wicket', 'player_dismissed',\n",
      "       'dismissal_kind', 'fielder'],\n",
      "      dtype='object')\n",
      "   season  match_id  inning                  batting_team  \\\n",
      "0    2008    335982       1  Kolkata Knight Riders          \n",
      "1    2008    335982       1  Kolkata Knight Riders          \n",
      "2    2008    335982       1  Kolkata Knight Riders          \n",
      "3    2008    335982       1  Kolkata Knight Riders          \n",
      "4    2008    335982       1  Kolkata Knight Riders          \n",
      "\n",
      "                   bowling_team  over  ball                    batter  \\\n",
      "0  Royal Challengers Bangalore      0     1  SC Ganguly                 \n",
      "1  Royal Challengers Bangalore      0     2  BB McCullum                \n",
      "2  Royal Challengers Bangalore      0     3  BB McCullum                \n",
      "3  Royal Challengers Bangalore      0     4  BB McCullum                \n",
      "4  Royal Challengers Bangalore      0     5  BB McCullum                \n",
      "\n",
      "                     bowler               non_striker  batsman_runs  \\\n",
      "0  P Kumar                   BB McCullum                          0   \n",
      "1  P Kumar                   SC Ganguly                           0   \n",
      "2  P Kumar                   SC Ganguly                           0   \n",
      "3  P Kumar                   SC Ganguly                           0   \n",
      "4  P Kumar                   SC Ganguly                           0   \n",
      "\n",
      "   extra_runs  total_runs   extras_type  is_wicket          player_dismissed  \\\n",
      "0           1           1  legbyes               0  NA                         \n",
      "1           0           0                        0  NA                         \n",
      "2           1           1  wides                 0  NA                         \n",
      "3           0           0                        0  NA                         \n",
      "4           0           0                        0  NA                         \n",
      "\n",
      "           dismissal_kind fielder  \n",
      "0  NA                         NaN  \n",
      "1  NA                         NaN  \n",
      "2  NA                         NaN  \n",
      "3  NA                         NaN  \n",
      "4  NA                         NaN  \n"
     ]
    }
   ],
   "source": [
    "# Strip trailing spaces from column names in delivery_data\n",
    "delivery_data.columns = delivery_data.columns.str.strip()\n",
    "\n",
    "# Ensure column names are unique\n",
    "delivery_data = delivery_data.loc[:, ~delivery_data.columns.duplicated()]\n",
    "\n",
    "# Verify the column names\n",
    "print(delivery_data.columns)\n",
    "\n",
    "# Merge delivery_data with match_data to get the season column\n",
    "delivery_data = delivery_data.merge(match_data[['id', 'season']], left_on='match_id', right_on='id', how='left')\n",
    "\n",
    "# Drop the redundant 'id' column from the merged dataframe\n",
    "delivery_data.drop(columns=['id'], inplace=True)\n",
    "\n",
    "# Reorder columns to bring 'season' to the front\n",
    "cols = ['season'] + [col for col in delivery_data.columns if col != 'season']\n",
    "delivery_data = delivery_data[cols]\n",
    "\n",
    "# Display the first few rows of the updated delivery_data to verify the new column\n",
    "print(delivery_data.head())"
   ]
  },
  {
   "cell_type": "code",
   "execution_count": 9,
   "metadata": {},
   "outputs": [
    {
     "data": {
      "application/vnd.plotly.v1+json": {
       "config": {
        "plotlyServerURL": "https://plot.ly"
       },
       "data": [
        {
         "line": {
          "color": "blue"
         },
         "marker": {
          "size": 8
         },
         "mode": "lines+markers",
         "name": "Total Runs",
         "type": "scatter",
         "x": [
          2008,
          2009,
          2010,
          2011,
          2012,
          2013,
          2014,
          2015,
          2016,
          2017,
          2018,
          2019,
          2020,
          2021,
          2022,
          2023,
          2024
         ],
         "y": [
          17937,
          16353,
          18883,
          21154,
          22453,
          22602,
          18931,
          18353,
          18862,
          18786,
          19901,
          19434,
          19416,
          18637,
          24395,
          25688,
          25971
         ]
        }
       ],
       "layout": {
        "hovermode": "x unified",
        "template": {
         "data": {
          "bar": [
           {
            "error_x": {
             "color": "#2a3f5f"
            },
            "error_y": {
             "color": "#2a3f5f"
            },
            "marker": {
             "line": {
              "color": "#E5ECF6",
              "width": 0.5
             },
             "pattern": {
              "fillmode": "overlay",
              "size": 10,
              "solidity": 0.2
             }
            },
            "type": "bar"
           }
          ],
          "barpolar": [
           {
            "marker": {
             "line": {
              "color": "#E5ECF6",
              "width": 0.5
             },
             "pattern": {
              "fillmode": "overlay",
              "size": 10,
              "solidity": 0.2
             }
            },
            "type": "barpolar"
           }
          ],
          "carpet": [
           {
            "aaxis": {
             "endlinecolor": "#2a3f5f",
             "gridcolor": "white",
             "linecolor": "white",
             "minorgridcolor": "white",
             "startlinecolor": "#2a3f5f"
            },
            "baxis": {
             "endlinecolor": "#2a3f5f",
             "gridcolor": "white",
             "linecolor": "white",
             "minorgridcolor": "white",
             "startlinecolor": "#2a3f5f"
            },
            "type": "carpet"
           }
          ],
          "choropleth": [
           {
            "colorbar": {
             "outlinewidth": 0,
             "ticks": ""
            },
            "type": "choropleth"
           }
          ],
          "contour": [
           {
            "colorbar": {
             "outlinewidth": 0,
             "ticks": ""
            },
            "colorscale": [
             [
              0,
              "#0d0887"
             ],
             [
              0.1111111111111111,
              "#46039f"
             ],
             [
              0.2222222222222222,
              "#7201a8"
             ],
             [
              0.3333333333333333,
              "#9c179e"
             ],
             [
              0.4444444444444444,
              "#bd3786"
             ],
             [
              0.5555555555555556,
              "#d8576b"
             ],
             [
              0.6666666666666666,
              "#ed7953"
             ],
             [
              0.7777777777777778,
              "#fb9f3a"
             ],
             [
              0.8888888888888888,
              "#fdca26"
             ],
             [
              1,
              "#f0f921"
             ]
            ],
            "type": "contour"
           }
          ],
          "contourcarpet": [
           {
            "colorbar": {
             "outlinewidth": 0,
             "ticks": ""
            },
            "type": "contourcarpet"
           }
          ],
          "heatmap": [
           {
            "colorbar": {
             "outlinewidth": 0,
             "ticks": ""
            },
            "colorscale": [
             [
              0,
              "#0d0887"
             ],
             [
              0.1111111111111111,
              "#46039f"
             ],
             [
              0.2222222222222222,
              "#7201a8"
             ],
             [
              0.3333333333333333,
              "#9c179e"
             ],
             [
              0.4444444444444444,
              "#bd3786"
             ],
             [
              0.5555555555555556,
              "#d8576b"
             ],
             [
              0.6666666666666666,
              "#ed7953"
             ],
             [
              0.7777777777777778,
              "#fb9f3a"
             ],
             [
              0.8888888888888888,
              "#fdca26"
             ],
             [
              1,
              "#f0f921"
             ]
            ],
            "type": "heatmap"
           }
          ],
          "heatmapgl": [
           {
            "colorbar": {
             "outlinewidth": 0,
             "ticks": ""
            },
            "colorscale": [
             [
              0,
              "#0d0887"
             ],
             [
              0.1111111111111111,
              "#46039f"
             ],
             [
              0.2222222222222222,
              "#7201a8"
             ],
             [
              0.3333333333333333,
              "#9c179e"
             ],
             [
              0.4444444444444444,
              "#bd3786"
             ],
             [
              0.5555555555555556,
              "#d8576b"
             ],
             [
              0.6666666666666666,
              "#ed7953"
             ],
             [
              0.7777777777777778,
              "#fb9f3a"
             ],
             [
              0.8888888888888888,
              "#fdca26"
             ],
             [
              1,
              "#f0f921"
             ]
            ],
            "type": "heatmapgl"
           }
          ],
          "histogram": [
           {
            "marker": {
             "pattern": {
              "fillmode": "overlay",
              "size": 10,
              "solidity": 0.2
             }
            },
            "type": "histogram"
           }
          ],
          "histogram2d": [
           {
            "colorbar": {
             "outlinewidth": 0,
             "ticks": ""
            },
            "colorscale": [
             [
              0,
              "#0d0887"
             ],
             [
              0.1111111111111111,
              "#46039f"
             ],
             [
              0.2222222222222222,
              "#7201a8"
             ],
             [
              0.3333333333333333,
              "#9c179e"
             ],
             [
              0.4444444444444444,
              "#bd3786"
             ],
             [
              0.5555555555555556,
              "#d8576b"
             ],
             [
              0.6666666666666666,
              "#ed7953"
             ],
             [
              0.7777777777777778,
              "#fb9f3a"
             ],
             [
              0.8888888888888888,
              "#fdca26"
             ],
             [
              1,
              "#f0f921"
             ]
            ],
            "type": "histogram2d"
           }
          ],
          "histogram2dcontour": [
           {
            "colorbar": {
             "outlinewidth": 0,
             "ticks": ""
            },
            "colorscale": [
             [
              0,
              "#0d0887"
             ],
             [
              0.1111111111111111,
              "#46039f"
             ],
             [
              0.2222222222222222,
              "#7201a8"
             ],
             [
              0.3333333333333333,
              "#9c179e"
             ],
             [
              0.4444444444444444,
              "#bd3786"
             ],
             [
              0.5555555555555556,
              "#d8576b"
             ],
             [
              0.6666666666666666,
              "#ed7953"
             ],
             [
              0.7777777777777778,
              "#fb9f3a"
             ],
             [
              0.8888888888888888,
              "#fdca26"
             ],
             [
              1,
              "#f0f921"
             ]
            ],
            "type": "histogram2dcontour"
           }
          ],
          "mesh3d": [
           {
            "colorbar": {
             "outlinewidth": 0,
             "ticks": ""
            },
            "type": "mesh3d"
           }
          ],
          "parcoords": [
           {
            "line": {
             "colorbar": {
              "outlinewidth": 0,
              "ticks": ""
             }
            },
            "type": "parcoords"
           }
          ],
          "pie": [
           {
            "automargin": true,
            "type": "pie"
           }
          ],
          "scatter": [
           {
            "fillpattern": {
             "fillmode": "overlay",
             "size": 10,
             "solidity": 0.2
            },
            "type": "scatter"
           }
          ],
          "scatter3d": [
           {
            "line": {
             "colorbar": {
              "outlinewidth": 0,
              "ticks": ""
             }
            },
            "marker": {
             "colorbar": {
              "outlinewidth": 0,
              "ticks": ""
             }
            },
            "type": "scatter3d"
           }
          ],
          "scattercarpet": [
           {
            "marker": {
             "colorbar": {
              "outlinewidth": 0,
              "ticks": ""
             }
            },
            "type": "scattercarpet"
           }
          ],
          "scattergeo": [
           {
            "marker": {
             "colorbar": {
              "outlinewidth": 0,
              "ticks": ""
             }
            },
            "type": "scattergeo"
           }
          ],
          "scattergl": [
           {
            "marker": {
             "colorbar": {
              "outlinewidth": 0,
              "ticks": ""
             }
            },
            "type": "scattergl"
           }
          ],
          "scattermapbox": [
           {
            "marker": {
             "colorbar": {
              "outlinewidth": 0,
              "ticks": ""
             }
            },
            "type": "scattermapbox"
           }
          ],
          "scatterpolar": [
           {
            "marker": {
             "colorbar": {
              "outlinewidth": 0,
              "ticks": ""
             }
            },
            "type": "scatterpolar"
           }
          ],
          "scatterpolargl": [
           {
            "marker": {
             "colorbar": {
              "outlinewidth": 0,
              "ticks": ""
             }
            },
            "type": "scatterpolargl"
           }
          ],
          "scatterternary": [
           {
            "marker": {
             "colorbar": {
              "outlinewidth": 0,
              "ticks": ""
             }
            },
            "type": "scatterternary"
           }
          ],
          "surface": [
           {
            "colorbar": {
             "outlinewidth": 0,
             "ticks": ""
            },
            "colorscale": [
             [
              0,
              "#0d0887"
             ],
             [
              0.1111111111111111,
              "#46039f"
             ],
             [
              0.2222222222222222,
              "#7201a8"
             ],
             [
              0.3333333333333333,
              "#9c179e"
             ],
             [
              0.4444444444444444,
              "#bd3786"
             ],
             [
              0.5555555555555556,
              "#d8576b"
             ],
             [
              0.6666666666666666,
              "#ed7953"
             ],
             [
              0.7777777777777778,
              "#fb9f3a"
             ],
             [
              0.8888888888888888,
              "#fdca26"
             ],
             [
              1,
              "#f0f921"
             ]
            ],
            "type": "surface"
           }
          ],
          "table": [
           {
            "cells": {
             "fill": {
              "color": "#EBF0F8"
             },
             "line": {
              "color": "white"
             }
            },
            "header": {
             "fill": {
              "color": "#C8D4E3"
             },
             "line": {
              "color": "white"
             }
            },
            "type": "table"
           }
          ]
         },
         "layout": {
          "annotationdefaults": {
           "arrowcolor": "#2a3f5f",
           "arrowhead": 0,
           "arrowwidth": 1
          },
          "autotypenumbers": "strict",
          "coloraxis": {
           "colorbar": {
            "outlinewidth": 0,
            "ticks": ""
           }
          },
          "colorscale": {
           "diverging": [
            [
             0,
             "#8e0152"
            ],
            [
             0.1,
             "#c51b7d"
            ],
            [
             0.2,
             "#de77ae"
            ],
            [
             0.3,
             "#f1b6da"
            ],
            [
             0.4,
             "#fde0ef"
            ],
            [
             0.5,
             "#f7f7f7"
            ],
            [
             0.6,
             "#e6f5d0"
            ],
            [
             0.7,
             "#b8e186"
            ],
            [
             0.8,
             "#7fbc41"
            ],
            [
             0.9,
             "#4d9221"
            ],
            [
             1,
             "#276419"
            ]
           ],
           "sequential": [
            [
             0,
             "#0d0887"
            ],
            [
             0.1111111111111111,
             "#46039f"
            ],
            [
             0.2222222222222222,
             "#7201a8"
            ],
            [
             0.3333333333333333,
             "#9c179e"
            ],
            [
             0.4444444444444444,
             "#bd3786"
            ],
            [
             0.5555555555555556,
             "#d8576b"
            ],
            [
             0.6666666666666666,
             "#ed7953"
            ],
            [
             0.7777777777777778,
             "#fb9f3a"
            ],
            [
             0.8888888888888888,
             "#fdca26"
            ],
            [
             1,
             "#f0f921"
            ]
           ],
           "sequentialminus": [
            [
             0,
             "#0d0887"
            ],
            [
             0.1111111111111111,
             "#46039f"
            ],
            [
             0.2222222222222222,
             "#7201a8"
            ],
            [
             0.3333333333333333,
             "#9c179e"
            ],
            [
             0.4444444444444444,
             "#bd3786"
            ],
            [
             0.5555555555555556,
             "#d8576b"
            ],
            [
             0.6666666666666666,
             "#ed7953"
            ],
            [
             0.7777777777777778,
             "#fb9f3a"
            ],
            [
             0.8888888888888888,
             "#fdca26"
            ],
            [
             1,
             "#f0f921"
            ]
           ]
          },
          "colorway": [
           "#636efa",
           "#EF553B",
           "#00cc96",
           "#ab63fa",
           "#FFA15A",
           "#19d3f3",
           "#FF6692",
           "#B6E880",
           "#FF97FF",
           "#FECB52"
          ],
          "font": {
           "color": "#2a3f5f"
          },
          "geo": {
           "bgcolor": "white",
           "lakecolor": "white",
           "landcolor": "#E5ECF6",
           "showlakes": true,
           "showland": true,
           "subunitcolor": "white"
          },
          "hoverlabel": {
           "align": "left"
          },
          "hovermode": "closest",
          "mapbox": {
           "style": "light"
          },
          "paper_bgcolor": "white",
          "plot_bgcolor": "#E5ECF6",
          "polar": {
           "angularaxis": {
            "gridcolor": "white",
            "linecolor": "white",
            "ticks": ""
           },
           "bgcolor": "#E5ECF6",
           "radialaxis": {
            "gridcolor": "white",
            "linecolor": "white",
            "ticks": ""
           }
          },
          "scene": {
           "xaxis": {
            "backgroundcolor": "#E5ECF6",
            "gridcolor": "white",
            "gridwidth": 2,
            "linecolor": "white",
            "showbackground": true,
            "ticks": "",
            "zerolinecolor": "white"
           },
           "yaxis": {
            "backgroundcolor": "#E5ECF6",
            "gridcolor": "white",
            "gridwidth": 2,
            "linecolor": "white",
            "showbackground": true,
            "ticks": "",
            "zerolinecolor": "white"
           },
           "zaxis": {
            "backgroundcolor": "#E5ECF6",
            "gridcolor": "white",
            "gridwidth": 2,
            "linecolor": "white",
            "showbackground": true,
            "ticks": "",
            "zerolinecolor": "white"
           }
          },
          "shapedefaults": {
           "line": {
            "color": "#2a3f5f"
           }
          },
          "ternary": {
           "aaxis": {
            "gridcolor": "white",
            "linecolor": "white",
            "ticks": ""
           },
           "baxis": {
            "gridcolor": "white",
            "linecolor": "white",
            "ticks": ""
           },
           "bgcolor": "#E5ECF6",
           "caxis": {
            "gridcolor": "white",
            "linecolor": "white",
            "ticks": ""
           }
          },
          "title": {
           "x": 0.05
          },
          "xaxis": {
           "automargin": true,
           "gridcolor": "white",
           "linecolor": "white",
           "ticks": "",
           "title": {
            "standoff": 15
           },
           "zerolinecolor": "white",
           "zerolinewidth": 2
          },
          "yaxis": {
           "automargin": true,
           "gridcolor": "white",
           "linecolor": "white",
           "ticks": "",
           "title": {
            "standoff": 15
           },
           "zerolinecolor": "white",
           "zerolinewidth": 2
          }
         }
        },
        "title": {
         "text": "Total Runs per Season"
        },
        "xaxis": {
         "title": {
          "text": "Season"
         }
        },
        "yaxis": {
         "title": {
          "text": "Total Runs"
         }
        }
       }
      }
     },
     "metadata": {},
     "output_type": "display_data"
    }
   ],
   "source": [
    "# Calculate total runs per season\n",
    "total_runs_per_season = delivery_data.groupby('season')['total_runs'].sum().reset_index()\n",
    "\n",
    "# Create a line plot using Plotly\n",
    "fig = go.Figure()\n",
    "\n",
    "# Add a trace for the total runs per season\n",
    "fig.add_trace(go.Scatter(\n",
    "    x=total_runs_per_season['season'],\n",
    "    y=total_runs_per_season['total_runs'],\n",
    "    mode='lines+markers',\n",
    "    name='Total Runs',\n",
    "    line=dict(color='blue'),\n",
    "    marker=dict(size=8)\n",
    "))\n",
    "\n",
    "# Update layout\n",
    "fig.update_layout(\n",
    "    title='Total Runs per Season',\n",
    "    xaxis_title='Season',\n",
    "    yaxis_title='Total Runs',\n",
    "    hovermode='x unified'\n",
    ")\n",
    "\n",
    "# Show the plot\n",
    "fig.show()"
   ]
  },
  {
   "cell_type": "code",
   "execution_count": 10,
   "metadata": {},
   "outputs": [
    {
     "name": "stdout",
     "output_type": "stream",
     "text": [
      "    season  total_runs  matches  runs_per_match\n",
      "0     2008       17937       58      309.258621\n",
      "1     2009       16353       57      286.894737\n",
      "2     2010       18883       60      314.716667\n",
      "3     2011       21154       73      289.780822\n",
      "4     2012       22453       74      303.418919\n",
      "5     2013       22602       76      297.394737\n",
      "6     2014       18931       60      315.516667\n",
      "7     2015       18353       59      311.067797\n",
      "8     2016       18862       60      314.366667\n",
      "9     2017       18786       59      318.406780\n",
      "10    2018       19901       60      331.683333\n",
      "11    2019       19434       60      323.900000\n",
      "12    2020       19416       60      323.600000\n",
      "13    2021       18637       60      310.616667\n",
      "14    2022       24395       74      329.662162\n",
      "15    2023       25688       74      347.135135\n",
      "16    2024       25971       71      365.788732\n"
     ]
    }
   ],
   "source": [
    "# Calculate runs scored per match for each season\n",
    "runs_per_match_per_season = total_runs_per_season.copy()\n",
    "runs_per_match_per_season['matches'] = matches_per_season_df['Matches']\n",
    "runs_per_match_per_season['runs_per_match'] = runs_per_match_per_season['total_runs'] / runs_per_match_per_season['matches']\n",
    "\n",
    "# Display the result\n",
    "print(runs_per_match_per_season)"
   ]
  },
  {
   "cell_type": "code",
   "execution_count": 11,
   "metadata": {},
   "outputs": [
    {
     "data": {
      "image/png": "[encoded data removed]",
      "text/plain": [
       "<Figure size 1200x800 with 1 Axes>"
      ]
     },
     "metadata": {},
     "output_type": "display_data"
    }
   ],
   "source": [
    "# Calculate the number of tosses won by each team\n",
    "tosses_won_by_team = match_data['toss_winner'].value_counts().reset_index()\n",
    "tosses_won_by_team.columns = ['Team', 'Tosses Won']\n",
    "\n",
    "# Create a horizontal bar plot using matplotlib\n",
    "plt.figure(figsize=(12, 8))  # Set the figure size\n",
    "\n",
    "# Define colors for the bars\n",
    "colors = ['#1f77b4', '#ff7f0e', '#2ca02c', '#d62728', '#9467bd', '#8c564b', '#e377c2', '#7f7f7f', '#bcbd22', '#17becf']\n",
    "\n",
    "# Create the horizontal bar plot\n",
    "bars = plt.barh(tosses_won_by_team['Team'], tosses_won_by_team['Tosses Won'], color=colors)\n",
    "\n",
    "# Set the y-axis label\n",
    "plt.ylabel('Team')\n",
    "\n",
    "# Set the x-axis label\n",
    "plt.xlabel('Number of Tosses Won')\n",
    "\n",
    "# Set the title of the plot\n",
    "plt.title('Number of Tosses Won by Each Team')\n",
    "\n",
    "# Annotate bars with the number of tosses won\n",
    "for bar in bars:\n",
    "    xval = bar.get_width()  # Get the width of the bar\n",
    "    plt.text(xval + 1, bar.get_y() + bar.get_height()/2, int(xval), ha='left', va='center')  # Add text annotation\n",
    "\n",
    "# Display the plot\n",
    "plt.show()\n"
   ]
  },
  {
   "cell_type": "code",
   "execution_count": 12,
   "metadata": {},
   "outputs": [
    {
     "data": {
      "image/png": "[encoded data removed]",
      "text/plain": [
       "<Figure size 1200x800 with 1 Axes>"
      ]
     },
     "metadata": {},
     "output_type": "display_data"
    }
   ],
   "source": [
    "# Count the number of toss decisions (bat/field) for each season\n",
    "toss_decision_per_season = match_data.groupby(['season', 'toss_decision']).size().unstack().fillna(0)\n",
    "\n",
    "# Plot the data\n",
    "toss_decision_per_season.plot(kind='bar', stacked=False, figsize=(12, 8), color=['#1f77b4', '#ff7f0e'])\n",
    "\n",
    "# Set the x-axis label\n",
    "plt.xlabel('Season')\n",
    "\n",
    "# Set the y-axis label\n",
    "plt.ylabel('Number of Toss Decisions')\n",
    "\n",
    "# Set the title of the plot\n",
    "plt.title('Toss Decisions (Bat/Field) Across Seasons')\n",
    "\n",
    "# Rotate the x-axis labels for better readability\n",
    "plt.xticks(rotation=45)\n",
    "\n",
    "# Display the plot\n",
    "plt.show()\n",
    "\n"
   ]
  },
  {
   "cell_type": "code",
   "execution_count": 13,
   "metadata": {},
   "outputs": [
    {
     "name": "stdout",
     "output_type": "stream",
     "text": [
      "    season  total_runs  total_wickets  total_ties\n",
      "0     2008       17937            690           0\n",
      "1     2009       16353            698           1\n",
      "2     2010       18883            725           1\n",
      "3     2011       21154            813           0\n",
      "4     2012       22453            858           0\n",
      "5     2013       22602            912           2\n",
      "6     2014       18931            674           1\n",
      "7     2015       18353            691           1\n",
      "8     2016       18862            666           0\n",
      "9     2017       18786            711           1\n",
      "10    2018       19901            722           0\n",
      "11    2019       19434            685           2\n",
      "12    2020       19416            677           4\n",
      "13    2021       18637            717           1\n",
      "14    2022       24395            912           0\n",
      "15    2023       25688            916           0\n",
      "16    2024       25971            883           0\n",
      "Total Runs: 347756\n",
      "Total Wickets: 12950\n",
      "Total Ties: 14\n"
     ]
    }
   ],
   "source": [
    "# Calculate total wickets per season\n",
    "total_wickets_per_season = delivery_data[delivery_data['is_wicket'] == 1].groupby('season').size().reset_index(name='total_wickets')\n",
    "\n",
    "# Calculate total runs per season (already calculated as total_runs_per_season)\n",
    "# total_runs_per_season is already defined in previous cells\n",
    "\n",
    "# Calculate total ties per season\n",
    "total_ties_per_season = match_data[match_data['result'] == 'tie'].groupby('season').size().reset_index(name='total_ties')\n",
    "\n",
    "# Merge the dataframes to get a consolidated view\n",
    "season_stats = total_runs_per_season.merge(total_wickets_per_season, on='season', how='left').merge(total_ties_per_season, on='season', how='left')\n",
    "\n",
    "# Fill NaN values with 0 (for seasons with no ties)\n",
    "season_stats['total_ties'] = season_stats['total_ties'].fillna(0).astype(int)\n",
    "\n",
    "# Display the result\n",
    "print(season_stats)\n",
    "# Calculate total runs, wickets, and ties across all seasons\n",
    "total_runs = season_stats['total_runs'].sum()\n",
    "total_wickets = season_stats['total_wickets'].sum()\n",
    "total_ties = season_stats['total_ties'].sum()\n",
    "\n",
    "# Display the total results\n",
    "print(f\"Total Runs: {total_runs}\")\n",
    "print(f\"Total Wickets: {total_wickets}\")\n",
    "print(f\"Total Ties: {total_ties}\")"
   ]
  },
  {
   "cell_type": "code",
   "execution_count": 14,
   "metadata": {},
   "outputs": [
    {
     "name": "stdout",
     "output_type": "stream",
     "text": [
      "Stadium with the highest number of wins by wickets: Eden Gardens with 45 wins\n",
      "                                              Stadium  Wins by Wickets  \\\n",
      "0                                        Eden Gardens               45   \n",
      "1                                    Wankhede Stadium               37   \n",
      "2                               M Chinnaswamy Stadium               36   \n",
      "3                              Sawai Mansingh Stadium               32   \n",
      "4                                    Feroz Shah Kotla               31   \n",
      "5           Rajiv Gandhi International Stadium, Uppal               28   \n",
      "6                            Wankhede Stadium, Mumbai               27   \n",
      "7                 Dubai International Cricket Stadium               22   \n",
      "8          Punjab Cricket Association Stadium, Mohali               20   \n",
      "9                             Sharjah Cricket Stadium               18   \n",
      "10                    MA Chidambaram Stadium, Chepauk               17   \n",
      "11                               Sheikh Zayed Stadium               16   \n",
      "12                   Narendra Modi Stadium, Ahmedabad               15   \n",
      "13           MA Chidambaram Stadium, Chepauk, Chennai               14   \n",
      "14            Maharashtra Cricket Association Stadium               14   \n",
      "15                 Dr DY Patil Sports Academy, Mumbai               10   \n",
      "16                         Dr DY Patil Sports Academy               10   \n",
      "17                          Brabourne Stadium, Mumbai                9   \n",
      "18                                    SuperSport Park                8   \n",
      "19                             Holkar Cricket Stadium                8   \n",
      "20                              Eden Gardens, Kolkata                8   \n",
      "21                              M.Chinnaswamy Stadium                7   \n",
      "22                        Arun Jaitley Stadium, Delhi                7   \n",
      "23                 Rajiv Gandhi International Stadium                7   \n",
      "24                                          Kingsmead                6   \n",
      "25  Rajiv Gandhi International Stadium, Uppal, Hyd...                6   \n",
      "26             Saurashtra Cricket Association Stadium                6   \n",
      "27  Bharat Ratna Shri Atal Bihari Vajpayee Ekana C...                6   \n",
      "28                   M Chinnaswamy Stadium, Bengaluru                6   \n",
      "29                               Arun Jaitley Stadium                6   \n",
      "30       Punjab Cricket Association IS Bindra Stadium                6   \n",
      "31                         Subrata Roy Sahara Stadium                6   \n",
      "32  Punjab Cricket Association IS Bindra Stadium, ...                6   \n",
      "33  Dr. Y.S. Rajasekhara Reddy ACA-VDCA Cricket St...                6   \n",
      "34                 JSCA International Stadium Complex                5   \n",
      "35                       Sardar Patel Stadium, Motera                5   \n",
      "36                              New Wanderers Stadium                5   \n",
      "37                     Sawai Mansingh Stadium, Jaipur                5   \n",
      "38                   Zayed Cricket Stadium, Abu Dhabi                5   \n",
      "39                             MA Chidambaram Stadium                5   \n",
      "40                                   St George's Park                4   \n",
      "41   Shaheed Veer Narayan Singh International Stadium                4   \n",
      "42                                         Green Park                4   \n",
      "43                                  Brabourne Stadium                4   \n",
      "44       Himachal Pradesh Cricket Association Stadium                4   \n",
      "45  Maharaja Yadavindra Singh International Cricke...                3   \n",
      "46      Maharashtra Cricket Association Stadium, Pune                3   \n",
      "47                                   Barabati Stadium                3   \n",
      "48                              De Beers Diamond Oval                2   \n",
      "49                                           Newlands                2   \n",
      "50  Punjab Cricket Association IS Bindra Stadium, ...                2   \n",
      "51                                      Nehru Stadium                2   \n",
      "52                                       Buffalo Park                1   \n",
      "53       Vidarbha Cricket Association Stadium, Jamtha                1   \n",
      "54                                    OUTsurance Oval                1   \n",
      "55  Himachal Pradesh Cricket Association Stadium, ...                1   \n",
      "56                Barsapara Cricket Stadium, Guwahati                1   \n",
      "\n",
      "    Total Runs                  toss_winner  Win Probability  \n",
      "0        23658               Mumbai Indians         1.666667  \n",
      "1        23407              Kings XI Punjab         1.250000  \n",
      "2        20263        Kolkata Knight Riders         1.500000  \n",
      "3        14264               Mumbai Indians         2.000000  \n",
      "4        18421        Kolkata Knight Riders         1.666667  \n",
      "5        14888          Chennai Super Kings         2.000000  \n",
      "6        15587                 Punjab Kings         4.000000  \n",
      "7        14450          Chennai Super Kings         1.800000  \n",
      "8        10987          Chennai Super Kings         1.500000  \n",
      "9         8583               Delhi Capitals         4.000000  \n",
      "10       15277          Chennai Super Kings         1.434783  \n",
      "11        8857               Mumbai Indians         2.000000  \n",
      "12        8150               Gujarat Titans         4.500000  \n",
      "13        8866        Kolkata Knight Riders         3.000000  \n",
      "14        7007             Delhi Daredevils         2.000000  \n",
      "15        6573          Chennai Super Kings         3.000000  \n",
      "16        4810               Mumbai Indians         2.500000  \n",
      "17        5824             Rajasthan Royals         3.000000  \n",
      "18        3653  Royal Challengers Bangalore         1.000000  \n",
      "19        2872              Kings XI Punjab         1.000000  \n",
      "20        6085        Kolkata Knight Riders         1.750000  \n",
      "21        5127  Royal Challengers Bangalore         1.333333  \n",
      "22        6091          Chennai Super Kings         2.000000  \n",
      "23        4631               Mumbai Indians         2.000000  \n",
      "24        4353             Delhi Daredevils         3.000000  \n",
      "25        4743               Delhi Capitals         1.000000  \n",
      "26        3333             Delhi Daredevils         1.000000  \n",
      "27        4294         Lucknow Super Giants         1.166667  \n",
      "28        5322         Lucknow Super Giants         2.000000  \n",
      "29        4543          Sunrisers Hyderabad         2.000000  \n",
      "30        3476              Kings XI Punjab         1.600000  \n",
      "31        4528               Mumbai Indians         2.000000  \n",
      "32        3545                Gujarat Lions         1.000000  \n",
      "33        3746          Sunrisers Hyderabad         3.000000  \n",
      "34        2056          Sunrisers Hyderabad         1.000000  \n",
      "35        3767             Rajasthan Royals         2.333333  \n",
      "36        2292  Royal Challengers Bangalore         1.500000  \n",
      "37        3421               Gujarat Titans         2.000000  \n",
      "38        2475               Mumbai Indians         1.000000  \n",
      "39        2563          Chennai Super Kings         1.000000  \n",
      "40        2033          Chennai Super Kings         2.000000  \n",
      "41        1741             Delhi Daredevils         4.000000  \n",
      "42        1298             Delhi Daredevils         1.000000  \n",
      "43        3481             Rajasthan Royals         1.000000  \n",
      "44        2897              Deccan Chargers         2.000000  \n",
      "45        1675             Rajasthan Royals         1.000000  \n",
      "46        4108               Gujarat Titans         1.500000  \n",
      "47        2278              Deccan Chargers         1.500000  \n",
      "48         897              Deccan Chargers         1.000000  \n",
      "49        1797              Deccan Chargers         2.000000  \n",
      "50        1856               Mumbai Indians         1.000000  \n",
      "51        1363             Delhi Daredevils         1.000000  \n",
      "52         799          Chennai Super Kings         1.000000  \n",
      "53         882             Rajasthan Royals         1.000000  \n",
      "54         529              Kings XI Punjab         1.000000  \n",
      "55        1515             Rajasthan Royals         1.000000  \n",
      "56        1019             Rajasthan Royals         0.500000  \n"
     ]
    }
   ],
   "source": [
    "# Filter matches won by wickets\n",
    "matches_won_by_wickets = match_data[match_data['result'] == 'wickets']\n",
    "\n",
    "# Group by venue and count the number of matches won by wickets\n",
    "stadium_wins_by_wickets = matches_won_by_wickets['venue'].value_counts().reset_index()\n",
    "stadium_wins_by_wickets.columns = ['Stadium', 'Wins by Wickets']\n",
    "\n",
    "# Display the stadium with the highest number of wins by wickets\n",
    "best_stadium_for_wickets = stadium_wins_by_wickets.iloc[0]\n",
    "print(f\"Stadium with the highest number of wins by wickets: {best_stadium_for_wickets['Stadium']} with {best_stadium_for_wickets['Wins by Wickets']} wins\")\n",
    "\n",
    "# Merge delivery_data with match_data to get the venue column\n",
    "delivery_data_with_venue = delivery_data.merge(match_data[['id', 'venue']], left_on='match_id', right_on='id', how='left')\n",
    "\n",
    "# Calculate the total runs scored at each stadium\n",
    "stadium_total_runs = delivery_data_with_venue.groupby('venue')['total_runs'].sum().reset_index()\n",
    "stadium_total_runs.columns = ['Stadium', 'Total Runs']\n",
    "\n",
    "# Merge the stadium wins by wickets with total runs\n",
    "stadium_stats = stadium_wins_by_wickets.merge(stadium_total_runs, on='Stadium', how='left')\n",
    "\n",
    "# Calculate the toss winner team with the maximum possibility of winning at each stadium\n",
    "stadium_toss_wins = match_data.groupby(['venue', 'toss_winner']).size().reset_index(name='Toss Wins')\n",
    "stadium_wins = match_data.groupby(['venue', 'winner']).size().reset_index(name='Wins')\n",
    "stadium_toss_wins = stadium_toss_wins.merge(stadium_wins, left_on=['venue', 'toss_winner'], right_on=['venue', 'winner'], how='left')\n",
    "stadium_toss_wins['Win Probability'] = stadium_toss_wins['Wins'] / stadium_toss_wins['Toss Wins']\n",
    "stadium_toss_wins = stadium_toss_wins.sort_values(by='Win Probability', ascending=False).drop_duplicates(subset=['venue'])\n",
    "\n",
    "# Merge the toss win probability with stadium stats\n",
    "stadium_stats = stadium_stats.merge(stadium_toss_wins[['venue', 'toss_winner', 'Win Probability']], left_on='Stadium', right_on='venue', how='left').drop(columns=['venue'])\n",
    "\n",
    "# Display the result\n",
    "print(stadium_stats)"
   ]
  },
  {
   "cell_type": "code",
   "execution_count": 15,
   "metadata": {},
   "outputs": [
    {
     "name": "stdout",
     "output_type": "stream",
     "text": [
      "                          winner  \\\n",
      "1                 Delhi Capitals   \n",
      "8                 Delhi Capitals   \n",
      "14               Deccan Chargers   \n",
      "17                  Punjab Kings   \n",
      "22          Lucknow Super Giants   \n",
      "27                Mumbai Indians   \n",
      "31                Delhi Capitals   \n",
      "38           Chennai Super Kings   \n",
      "41           Chennai Super Kings   \n",
      "48                Mumbai Indians   \n",
      "52           Chennai Super Kings   \n",
      "69           Sunrisers Hyderabad   \n",
      "70                Delhi Capitals   \n",
      "72           Chennai Super Kings   \n",
      "88         Kolkata Knight Riders   \n",
      "96         Kolkata Knight Riders   \n",
      "104             Delhi Daredevils   \n",
      "116                Gujarat Lions   \n",
      "121              Kings XI Punjab   \n",
      "122          Chennai Super Kings   \n",
      "126              Kings XI Punjab   \n",
      "131          Chennai Super Kings   \n",
      "138             Delhi Daredevils   \n",
      "152  Royal Challengers Bangalore   \n",
      "159  Royal Challengers Bengaluru   \n",
      "166  Royal Challengers Bangalore   \n",
      "167          Chennai Super Kings   \n",
      "169          Chennai Super Kings   \n",
      "178          Chennai Super Kings   \n",
      "187               Gujarat Titans   \n",
      "192          Chennai Super Kings   \n",
      "202               Gujarat Titans   \n",
      "210               Gujarat Titans   \n",
      "218         Kochi Tuskers Kerala   \n",
      "224  Royal Challengers Bangalore   \n",
      "225              Deccan Chargers   \n",
      "231             Delhi Daredevils   \n",
      "233              Kings XI Punjab   \n",
      "237              Kings XI Punjab   \n",
      "242               Gujarat Titans   \n",
      "249              Kings XI Punjab   \n",
      "260          Sunrisers Hyderabad   \n",
      "272          Sunrisers Hyderabad   \n",
      "280          Sunrisers Hyderabad   \n",
      "284             Rajasthan Royals   \n",
      "288                Gujarat Lions   \n",
      "300             Rajasthan Royals   \n",
      "305             Rajasthan Royals   \n",
      "308             Delhi Daredevils   \n",
      "315        Kolkata Knight Riders   \n",
      "324        Kolkata Knight Riders   \n",
      "329          Chennai Super Kings   \n",
      "340                Pune Warriors   \n",
      "343          Chennai Super Kings   \n",
      "350              Deccan Chargers   \n",
      "360               Mumbai Indians   \n",
      "372               Mumbai Indians   \n",
      "379        Kolkata Knight Riders   \n",
      "\n",
      "                                                 venue  \n",
      "1                                 Arun Jaitley Stadium  \n",
      "8                          Arun Jaitley Stadium, Delhi  \n",
      "14                                    Barabati Stadium  \n",
      "17                 Barsapara Cricket Stadium, Guwahati  \n",
      "22   Bharat Ratna Shri Atal Bihari Vajpayee Ekana C...  \n",
      "27                                   Brabourne Stadium  \n",
      "31                           Brabourne Stadium, Mumbai  \n",
      "38                                        Buffalo Park  \n",
      "41                               De Beers Diamond Oval  \n",
      "48                          Dr DY Patil Sports Academy  \n",
      "52                  Dr DY Patil Sports Academy, Mumbai  \n",
      "69   Dr. Y.S. Rajasekhara Reddy ACA-VDCA Cricket St...  \n",
      "70   Dr. Y.S. Rajasekhara Reddy ACA-VDCA Cricket St...  \n",
      "72                 Dubai International Cricket Stadium  \n",
      "88                                        Eden Gardens  \n",
      "96                               Eden Gardens, Kolkata  \n",
      "104                                   Feroz Shah Kotla  \n",
      "116                                         Green Park  \n",
      "121       Himachal Pradesh Cricket Association Stadium  \n",
      "122  Himachal Pradesh Cricket Association Stadium, ...  \n",
      "126                             Holkar Cricket Stadium  \n",
      "131                 JSCA International Stadium Complex  \n",
      "138                                          Kingsmead  \n",
      "152                              M Chinnaswamy Stadium  \n",
      "159                   M Chinnaswamy Stadium, Bengaluru  \n",
      "166                              M.Chinnaswamy Stadium  \n",
      "167                             MA Chidambaram Stadium  \n",
      "169                    MA Chidambaram Stadium, Chepauk  \n",
      "178           MA Chidambaram Stadium, Chepauk, Chennai  \n",
      "187  Maharaja Yadavindra Singh International Cricke...  \n",
      "192            Maharashtra Cricket Association Stadium  \n",
      "202      Maharashtra Cricket Association Stadium, Pune  \n",
      "210                   Narendra Modi Stadium, Ahmedabad  \n",
      "218                                      Nehru Stadium  \n",
      "224                              New Wanderers Stadium  \n",
      "225                                           Newlands  \n",
      "231                                    OUTsurance Oval  \n",
      "233       Punjab Cricket Association IS Bindra Stadium  \n",
      "237  Punjab Cricket Association IS Bindra Stadium, ...  \n",
      "242  Punjab Cricket Association IS Bindra Stadium, ...  \n",
      "249         Punjab Cricket Association Stadium, Mohali  \n",
      "260                 Rajiv Gandhi International Stadium  \n",
      "272          Rajiv Gandhi International Stadium, Uppal  \n",
      "280  Rajiv Gandhi International Stadium, Uppal, Hyd...  \n",
      "284                       Sardar Patel Stadium, Motera  \n",
      "288             Saurashtra Cricket Association Stadium  \n",
      "300                             Sawai Mansingh Stadium  \n",
      "305                     Sawai Mansingh Stadium, Jaipur  \n",
      "308   Shaheed Veer Narayan Singh International Stadium  \n",
      "315                            Sharjah Cricket Stadium  \n",
      "324                               Sheikh Zayed Stadium  \n",
      "329                                   St George's Park  \n",
      "340                         Subrata Roy Sahara Stadium  \n",
      "343                                    SuperSport Park  \n",
      "350       Vidarbha Cricket Association Stadium, Jamtha  \n",
      "360                                   Wankhede Stadium  \n",
      "372                           Wankhede Stadium, Mumbai  \n",
      "379                   Zayed Cricket Stadium, Abu Dhabi  \n"
     ]
    }
   ],
   "source": [
    "# Group by venue and winner to count the number of wins for each team at each venue\n",
    "venue_wins = match_data.groupby(['venue', 'winner']).size().reset_index(name='Wins')\n",
    "\n",
    "# Find the team with the maximum wins at each venue\n",
    "max_wins_per_venue = venue_wins.loc[venue_wins.groupby('venue')['Wins'].idxmax()]\n",
    "\n",
    "# Display the result in a tabular format\n",
    "print(max_wins_per_venue[['winner', 'venue']])"
   ]
  },
  {
   "cell_type": "code",
   "execution_count": 16,
   "metadata": {},
   "outputs": [
    {
     "data": {
      "text/html": [
       "\n",
       "        <iframe\n",
       "            width=\"100%\"\n",
       "            height=\"650\"\n",
       "            src=\"http://127.0.0.1:8050/\"\n",
       "            frameborder=\"0\"\n",
       "            allowfullscreen\n",
       "            \n",
       "        ></iframe>\n",
       "        "
      ],
      "text/plain": [
       "<IPython.lib.display.IFrame at 0x1c36ab7b0e0>"
      ]
     },
     "metadata": {},
     "output_type": "display_data"
    }
   ],
   "source": [
    "from dash import dcc, html, dash_table\n",
    "import dash\n",
    "from dash.dependencies import Input, Output\n",
    "\n",
    "# Initialize the Dash app\n",
    "app = dash.Dash(__name__)\n",
    "\n",
    "# Define the layout of the app\n",
    "app.layout = html.Div([\n",
    "    html.H1(\"IPL Data Analysis Dashboard\"),\n",
    "    \n",
    "    # Dropdown for selecting the season\n",
    "    dcc.Dropdown(\n",
    "        id='season-dropdown',\n",
    "        options=[{'label': season, 'value': season} for season in match_data['season'].unique()],\n",
    "        value=match_data['season'].unique()[0],\n",
    "        clearable=False\n",
    "    ),\n",
    "    \n",
    "    # Graph for total runs per season\n",
    "    dcc.Graph(id='total-runs-graph'),\n",
    "    \n",
    "    # Data table for match data\n",
    "    dash_table.DataTable(\n",
    "        id='match-data-table',\n",
    "        columns=[{\"name\": i, \"id\": i} for i in match_data.columns],\n",
    "        data=match_data.to_dict('records'),\n",
    "        page_size=10\n",
    "    )\n",
    "])\n",
    "\n",
    "# Define the callback to update the graph based on selected season\n",
    "@app.callback(\n",
    "    Output('total-runs-graph', 'figure'),\n",
    "    [Input('season-dropdown', 'value')]\n",
    ")\n",
    "def update_graph(selected_season):\n",
    "    filtered_data = total_runs_per_season[total_runs_per_season['season'] == selected_season]\n",
    "    fig = go.Figure(data=[\n",
    "        go.Bar(x=filtered_data['season'], y=filtered_data['total_runs'])\n",
    "    ])\n",
    "    fig.update_layout(title='Total Runs in Season {}'.format(selected_season),\n",
    "                      xaxis_title='Season',\n",
    "                      yaxis_title='Total Runs')\n",
    "    return fig\n",
    "\n",
    "# Run the app\n",
    "if __name__ == '__main__':\n",
    "    app.run_server(debug=True)\n"
   ]
  },
  {
   "cell_type": "code",
   "execution_count": null,
   "metadata": {},
   "outputs": [],
   "source": []
  }
 ],
 "metadata": {
  "kernelspec": {
   "display_name": "Python 3",
   "language": "python",
   "name": "python3"
  },
  "language_info": {
   "codemirror_mode": {
    "name": "ipython",
    "version": 3
   },
   "file_extension": ".py",
   "mimetype": "text/x-python",
   "name": "python",
   "nbconvert_exporter": "python",
   "pygments_lexer": "ipython3",
   "version": "3.13.1"
  }
 },
 "nbformat": 4,
 "nbformat_minor": 2
}
